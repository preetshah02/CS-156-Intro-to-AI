{
  "cells": [
    {
      "cell_type": "markdown",
      "metadata": {
        "id": "uGaMellLxpXm"
      },
      "source": [
        "# <b>CS156 (Introduction to AI), Fall 2022</b>\n",
        "# <u><b>Homework 7 submission</b></u>"
      ]
    },
    {
      "cell_type": "markdown",
      "metadata": {
        "id": "NNP4XJeXxpXo"
      },
      "source": [
        "### Roster Name: Preet LNU\n",
        "### Student ID: 014755741\n",
        "### Email address: preet.lnu@sjsu.edu\n"
      ]
    },
    {
      "cell_type": "markdown",
      "metadata": {
        "id": "1kr7f1AdxpXp"
      },
      "source": [
        "##  <u>References and sources </u>"
      ]
    },
    {
      "cell_type": "markdown",
      "metadata": {
        "id": "W8awTXwoxpXp"
      },
      "source": [
        "https://www.geeksforgeeks.org/violinplot-using-seaborn-in-python/\n"
      ]
    },
    {
      "cell_type": "markdown",
      "metadata": {
        "id": "KqGNHv8WxpXq"
      },
      "source": [
        "##  <u>Solution</u>"
      ]
    },
    {
      "cell_type": "markdown",
      "metadata": {
        "id": "hcAgtIeqxpXq"
      },
      "source": [
        "#### Load libraries and set random number generator seed"
      ]
    },
    {
      "cell_type": "code",
      "execution_count": 11,
      "metadata": {
        "id": "mFNBfWDSxpXq"
      },
      "outputs": [],
      "source": [
        "import numpy as np\n",
        "import pandas as pd\n",
        "import seaborn as sns\n",
        "import matplotlib.pyplot as plt\n",
        "\n",
        "from sklearn import datasets\n",
        "from sklearn.model_selection import train_test_split\n",
        "from sklearn.neural_network import MLPClassifier\n",
        "\n",
        "from sklearn.model_selection import StratifiedKFold\n",
        "from sklearn.model_selection import cross_val_score"
      ]
    },
    {
      "cell_type": "code",
      "execution_count": 12,
      "metadata": {
        "id": "PpYqw-A2xpXr"
      },
      "outputs": [],
      "source": [
        "np.random.seed(42)"
      ]
    },
    {
      "cell_type": "markdown",
      "metadata": {
        "id": "wu1scrU-xpXs"
      },
      "source": [
        "#### Code the solution"
      ]
    },
    {
      "cell_type": "markdown",
      "source": [
        "#### Load the Dataset"
      ],
      "metadata": {
        "id": "ZO6MPSGnaRf3"
      }
    },
    {
      "cell_type": "code",
      "execution_count": 13,
      "metadata": {
        "colab": {
          "base_uri": "https://localhost:8080/"
        },
        "id": "X4cbNKvPxpXs",
        "outputId": "5a76300d-5fdf-4168-afc3-d92cca17625b"
      },
      "outputs": [
        {
          "output_type": "execute_result",
          "data": {
            "text/plain": [
              "((1797, 64), (1797,), array([0, 1, 2, 3, 4, 5, 6, 7, 8, 9]))"
            ]
          },
          "metadata": {},
          "execution_count": 13
        }
      ],
      "source": [
        "digits = datasets.load_digits()\n",
        "X = digits.data\n",
        "X = X.astype(\"float32\") / 255\n",
        "Y = digits.target\n",
        "class_names = digits.target_names\n",
        "X.shape, Y.shape, class_names"
      ]
    },
    {
      "cell_type": "code",
      "execution_count": 14,
      "metadata": {
        "colab": {
          "base_uri": "https://localhost:8080/",
          "height": 300
        },
        "id": "YMfA03EpxpXs",
        "outputId": "636bcd28-9ff5-4062-abbe-2855bb9458fa"
      },
      "outputs": [
        {
          "output_type": "execute_result",
          "data": {
            "text/plain": [
              "   pixel_0_0  pixel_0_1  pixel_0_2  pixel_0_3  pixel_0_4  pixel_0_5  \\\n",
              "0        0.0        0.0   0.019608   0.050980   0.035294   0.003922   \n",
              "1        0.0        0.0   0.000000   0.047059   0.050980   0.019608   \n",
              "2        0.0        0.0   0.000000   0.015686   0.058824   0.047059   \n",
              "3        0.0        0.0   0.027451   0.058824   0.050980   0.003922   \n",
              "4        0.0        0.0   0.000000   0.003922   0.043137   0.000000   \n",
              "\n",
              "   pixel_0_6  pixel_0_7  pixel_1_0  pixel_1_1  ...  pixel_6_7  pixel_7_0  \\\n",
              "0        0.0        0.0        0.0   0.000000  ...        0.0        0.0   \n",
              "1        0.0        0.0        0.0   0.000000  ...        0.0        0.0   \n",
              "2        0.0        0.0        0.0   0.000000  ...        0.0        0.0   \n",
              "3        0.0        0.0        0.0   0.031373  ...        0.0        0.0   \n",
              "4        0.0        0.0        0.0   0.000000  ...        0.0        0.0   \n",
              "\n",
              "   pixel_7_1  pixel_7_2  pixel_7_3  pixel_7_4  pixel_7_5  pixel_7_6  \\\n",
              "0        0.0   0.023529   0.050980   0.039216   0.000000   0.000000   \n",
              "1        0.0   0.000000   0.043137   0.062745   0.039216   0.000000   \n",
              "2        0.0   0.000000   0.011765   0.043137   0.062745   0.035294   \n",
              "3        0.0   0.027451   0.050980   0.050980   0.035294   0.000000   \n",
              "4        0.0   0.000000   0.007843   0.062745   0.015686   0.000000   \n",
              "\n",
              "   pixel_7_7  output_digit  \n",
              "0        0.0             0  \n",
              "1        0.0             1  \n",
              "2        0.0             2  \n",
              "3        0.0             3  \n",
              "4        0.0             4  \n",
              "\n",
              "[5 rows x 65 columns]"
            ],
            "text/html": [
              "\n",
              "  <div id=\"df-0f1726f6-bba8-4a44-b258-852b5e34aef2\">\n",
              "    <div class=\"colab-df-container\">\n",
              "      <div>\n",
              "<style scoped>\n",
              "    .dataframe tbody tr th:only-of-type {\n",
              "        vertical-align: middle;\n",
              "    }\n",
              "\n",
              "    .dataframe tbody tr th {\n",
              "        vertical-align: top;\n",
              "    }\n",
              "\n",
              "    .dataframe thead th {\n",
              "        text-align: right;\n",
              "    }\n",
              "</style>\n",
              "<table border=\"1\" class=\"dataframe\">\n",
              "  <thead>\n",
              "    <tr style=\"text-align: right;\">\n",
              "      <th></th>\n",
              "      <th>pixel_0_0</th>\n",
              "      <th>pixel_0_1</th>\n",
              "      <th>pixel_0_2</th>\n",
              "      <th>pixel_0_3</th>\n",
              "      <th>pixel_0_4</th>\n",
              "      <th>pixel_0_5</th>\n",
              "      <th>pixel_0_6</th>\n",
              "      <th>pixel_0_7</th>\n",
              "      <th>pixel_1_0</th>\n",
              "      <th>pixel_1_1</th>\n",
              "      <th>...</th>\n",
              "      <th>pixel_6_7</th>\n",
              "      <th>pixel_7_0</th>\n",
              "      <th>pixel_7_1</th>\n",
              "      <th>pixel_7_2</th>\n",
              "      <th>pixel_7_3</th>\n",
              "      <th>pixel_7_4</th>\n",
              "      <th>pixel_7_5</th>\n",
              "      <th>pixel_7_6</th>\n",
              "      <th>pixel_7_7</th>\n",
              "      <th>output_digit</th>\n",
              "    </tr>\n",
              "  </thead>\n",
              "  <tbody>\n",
              "    <tr>\n",
              "      <th>0</th>\n",
              "      <td>0.0</td>\n",
              "      <td>0.0</td>\n",
              "      <td>0.019608</td>\n",
              "      <td>0.050980</td>\n",
              "      <td>0.035294</td>\n",
              "      <td>0.003922</td>\n",
              "      <td>0.0</td>\n",
              "      <td>0.0</td>\n",
              "      <td>0.0</td>\n",
              "      <td>0.000000</td>\n",
              "      <td>...</td>\n",
              "      <td>0.0</td>\n",
              "      <td>0.0</td>\n",
              "      <td>0.0</td>\n",
              "      <td>0.023529</td>\n",
              "      <td>0.050980</td>\n",
              "      <td>0.039216</td>\n",
              "      <td>0.000000</td>\n",
              "      <td>0.000000</td>\n",
              "      <td>0.0</td>\n",
              "      <td>0</td>\n",
              "    </tr>\n",
              "    <tr>\n",
              "      <th>1</th>\n",
              "      <td>0.0</td>\n",
              "      <td>0.0</td>\n",
              "      <td>0.000000</td>\n",
              "      <td>0.047059</td>\n",
              "      <td>0.050980</td>\n",
              "      <td>0.019608</td>\n",
              "      <td>0.0</td>\n",
              "      <td>0.0</td>\n",
              "      <td>0.0</td>\n",
              "      <td>0.000000</td>\n",
              "      <td>...</td>\n",
              "      <td>0.0</td>\n",
              "      <td>0.0</td>\n",
              "      <td>0.0</td>\n",
              "      <td>0.000000</td>\n",
              "      <td>0.043137</td>\n",
              "      <td>0.062745</td>\n",
              "      <td>0.039216</td>\n",
              "      <td>0.000000</td>\n",
              "      <td>0.0</td>\n",
              "      <td>1</td>\n",
              "    </tr>\n",
              "    <tr>\n",
              "      <th>2</th>\n",
              "      <td>0.0</td>\n",
              "      <td>0.0</td>\n",
              "      <td>0.000000</td>\n",
              "      <td>0.015686</td>\n",
              "      <td>0.058824</td>\n",
              "      <td>0.047059</td>\n",
              "      <td>0.0</td>\n",
              "      <td>0.0</td>\n",
              "      <td>0.0</td>\n",
              "      <td>0.000000</td>\n",
              "      <td>...</td>\n",
              "      <td>0.0</td>\n",
              "      <td>0.0</td>\n",
              "      <td>0.0</td>\n",
              "      <td>0.000000</td>\n",
              "      <td>0.011765</td>\n",
              "      <td>0.043137</td>\n",
              "      <td>0.062745</td>\n",
              "      <td>0.035294</td>\n",
              "      <td>0.0</td>\n",
              "      <td>2</td>\n",
              "    </tr>\n",
              "    <tr>\n",
              "      <th>3</th>\n",
              "      <td>0.0</td>\n",
              "      <td>0.0</td>\n",
              "      <td>0.027451</td>\n",
              "      <td>0.058824</td>\n",
              "      <td>0.050980</td>\n",
              "      <td>0.003922</td>\n",
              "      <td>0.0</td>\n",
              "      <td>0.0</td>\n",
              "      <td>0.0</td>\n",
              "      <td>0.031373</td>\n",
              "      <td>...</td>\n",
              "      <td>0.0</td>\n",
              "      <td>0.0</td>\n",
              "      <td>0.0</td>\n",
              "      <td>0.027451</td>\n",
              "      <td>0.050980</td>\n",
              "      <td>0.050980</td>\n",
              "      <td>0.035294</td>\n",
              "      <td>0.000000</td>\n",
              "      <td>0.0</td>\n",
              "      <td>3</td>\n",
              "    </tr>\n",
              "    <tr>\n",
              "      <th>4</th>\n",
              "      <td>0.0</td>\n",
              "      <td>0.0</td>\n",
              "      <td>0.000000</td>\n",
              "      <td>0.003922</td>\n",
              "      <td>0.043137</td>\n",
              "      <td>0.000000</td>\n",
              "      <td>0.0</td>\n",
              "      <td>0.0</td>\n",
              "      <td>0.0</td>\n",
              "      <td>0.000000</td>\n",
              "      <td>...</td>\n",
              "      <td>0.0</td>\n",
              "      <td>0.0</td>\n",
              "      <td>0.0</td>\n",
              "      <td>0.000000</td>\n",
              "      <td>0.007843</td>\n",
              "      <td>0.062745</td>\n",
              "      <td>0.015686</td>\n",
              "      <td>0.000000</td>\n",
              "      <td>0.0</td>\n",
              "      <td>4</td>\n",
              "    </tr>\n",
              "  </tbody>\n",
              "</table>\n",
              "<p>5 rows × 65 columns</p>\n",
              "</div>\n",
              "      <button class=\"colab-df-convert\" onclick=\"convertToInteractive('df-0f1726f6-bba8-4a44-b258-852b5e34aef2')\"\n",
              "              title=\"Convert this dataframe to an interactive table.\"\n",
              "              style=\"display:none;\">\n",
              "        \n",
              "  <svg xmlns=\"http://www.w3.org/2000/svg\" height=\"24px\"viewBox=\"0 0 24 24\"\n",
              "       width=\"24px\">\n",
              "    <path d=\"M0 0h24v24H0V0z\" fill=\"none\"/>\n",
              "    <path d=\"M18.56 5.44l.94 2.06.94-2.06 2.06-.94-2.06-.94-.94-2.06-.94 2.06-2.06.94zm-11 1L8.5 8.5l.94-2.06 2.06-.94-2.06-.94L8.5 2.5l-.94 2.06-2.06.94zm10 10l.94 2.06.94-2.06 2.06-.94-2.06-.94-.94-2.06-.94 2.06-2.06.94z\"/><path d=\"M17.41 7.96l-1.37-1.37c-.4-.4-.92-.59-1.43-.59-.52 0-1.04.2-1.43.59L10.3 9.45l-7.72 7.72c-.78.78-.78 2.05 0 2.83L4 21.41c.39.39.9.59 1.41.59.51 0 1.02-.2 1.41-.59l7.78-7.78 2.81-2.81c.8-.78.8-2.07 0-2.86zM5.41 20L4 18.59l7.72-7.72 1.47 1.35L5.41 20z\"/>\n",
              "  </svg>\n",
              "      </button>\n",
              "      \n",
              "  <style>\n",
              "    .colab-df-container {\n",
              "      display:flex;\n",
              "      flex-wrap:wrap;\n",
              "      gap: 12px;\n",
              "    }\n",
              "\n",
              "    .colab-df-convert {\n",
              "      background-color: #E8F0FE;\n",
              "      border: none;\n",
              "      border-radius: 50%;\n",
              "      cursor: pointer;\n",
              "      display: none;\n",
              "      fill: #1967D2;\n",
              "      height: 32px;\n",
              "      padding: 0 0 0 0;\n",
              "      width: 32px;\n",
              "    }\n",
              "\n",
              "    .colab-df-convert:hover {\n",
              "      background-color: #E2EBFA;\n",
              "      box-shadow: 0px 1px 2px rgba(60, 64, 67, 0.3), 0px 1px 3px 1px rgba(60, 64, 67, 0.15);\n",
              "      fill: #174EA6;\n",
              "    }\n",
              "\n",
              "    [theme=dark] .colab-df-convert {\n",
              "      background-color: #3B4455;\n",
              "      fill: #D2E3FC;\n",
              "    }\n",
              "\n",
              "    [theme=dark] .colab-df-convert:hover {\n",
              "      background-color: #434B5C;\n",
              "      box-shadow: 0px 1px 3px 1px rgba(0, 0, 0, 0.15);\n",
              "      filter: drop-shadow(0px 1px 2px rgba(0, 0, 0, 0.3));\n",
              "      fill: #FFFFFF;\n",
              "    }\n",
              "  </style>\n",
              "\n",
              "      <script>\n",
              "        const buttonEl =\n",
              "          document.querySelector('#df-0f1726f6-bba8-4a44-b258-852b5e34aef2 button.colab-df-convert');\n",
              "        buttonEl.style.display =\n",
              "          google.colab.kernel.accessAllowed ? 'block' : 'none';\n",
              "\n",
              "        async function convertToInteractive(key) {\n",
              "          const element = document.querySelector('#df-0f1726f6-bba8-4a44-b258-852b5e34aef2');\n",
              "          const dataTable =\n",
              "            await google.colab.kernel.invokeFunction('convertToInteractive',\n",
              "                                                     [key], {});\n",
              "          if (!dataTable) return;\n",
              "\n",
              "          const docLinkHtml = 'Like what you see? Visit the ' +\n",
              "            '<a target=\"_blank\" href=https://colab.research.google.com/notebooks/data_table.ipynb>data table notebook</a>'\n",
              "            + ' to learn more about interactive tables.';\n",
              "          element.innerHTML = '';\n",
              "          dataTable['output_type'] = 'display_data';\n",
              "          await google.colab.output.renderOutput(dataTable, element);\n",
              "          const docLink = document.createElement('div');\n",
              "          docLink.innerHTML = docLinkHtml;\n",
              "          element.appendChild(docLink);\n",
              "        }\n",
              "      </script>\n",
              "    </div>\n",
              "  </div>\n",
              "  "
            ]
          },
          "metadata": {},
          "execution_count": 14
        }
      ],
      "source": [
        "digits_df = pd.DataFrame(X, columns=digits.feature_names)\n",
        "digits_df['output_digit'] = Y\n",
        "digits_df.head()"
      ]
    },
    {
      "cell_type": "markdown",
      "source": [
        "#### Training and testing data"
      ],
      "metadata": {
        "id": "2pb4eEwUayTl"
      }
    },
    {
      "cell_type": "code",
      "execution_count": 15,
      "metadata": {
        "colab": {
          "base_uri": "https://localhost:8080/"
        },
        "id": "rWTpqRBIxpXs",
        "outputId": "aa8a48c3-94ac-458f-eb69-5c461e499976"
      },
      "outputs": [
        {
          "output_type": "execute_result",
          "data": {
            "text/plain": [
              "((1437, 64), (360, 64), (1437,), (360,))"
            ]
          },
          "metadata": {},
          "execution_count": 15
        }
      ],
      "source": [
        "X_train, X_test, Y_train, Y_test = train_test_split(X, Y, test_size=0.2, random_state=0, stratify=Y)\n",
        "X_train.shape, X_test.shape, Y_train.shape, Y_test.shape"
      ]
    },
    {
      "cell_type": "markdown",
      "source": [
        "#### 6 MLP models"
      ],
      "metadata": {
        "id": "Gacql0yea2du"
      }
    },
    {
      "cell_type": "code",
      "execution_count": 16,
      "metadata": {
        "id": "IBKv9FxExpXs"
      },
      "outputs": [],
      "source": [
        "model1 = MLPClassifier(random_state=1, max_iter=10000).fit(X_train, Y_train)\n",
        "model2 = MLPClassifier(hidden_layer_sizes=(400,150,50), activation = 'relu', random_state=1, max_iter=10000).fit(X_train, Y_train)\n",
        "model3 = MLPClassifier(hidden_layer_sizes=(64,32,8), activation = 'relu', random_state=1, max_iter=10000).fit(X_train, Y_train)\n",
        "model4 = MLPClassifier(hidden_layer_sizes=(32,16), activation = 'relu', random_state=1, max_iter=10000).fit(X_train, Y_train)\n",
        "model5 = MLPClassifier(hidden_layer_sizes=(120,64,16), activation = 'relu', random_state=1, max_iter=10000).fit(X_train, Y_train)\n",
        "model6 = MLPClassifier(hidden_layer_sizes=(320,120,32), activation = 'relu', random_state=1, max_iter=10000).fit(X_train, Y_train)"
      ]
    },
    {
      "cell_type": "markdown",
      "source": [
        "#### Stratified 5-fold cross-val prediction accuracy per fold"
      ],
      "metadata": {
        "id": "VKZlj4OJa_OZ"
      }
    },
    {
      "cell_type": "code",
      "execution_count": 7,
      "metadata": {
        "colab": {
          "base_uri": "https://localhost:8080/"
        },
        "id": "ShaOaWypxpXs",
        "outputId": "cacdcc30-5eb3-4da5-b571-8f9f1109c4ff"
      },
      "outputs": [
        {
          "output_type": "stream",
          "name": "stdout",
          "text": [
            "Individual cross-validation accuracies for Model 1: [0.96180556 0.98263889 0.95818815 0.96864111 0.96515679]\n",
            "Individual cross-validation accuracies for Model 2: [0.95486111 0.97569444 0.95121951 0.95818815 0.95121951]\n",
            "Individual cross-validation accuracies for Model 3: [0.93402778 0.95833333 0.92334495 0.92334495 0.93728223]\n",
            "Individual cross-validation accuracies for Model 4: [0.9375     0.95486111 0.91289199 0.95121951 0.94425087]\n",
            "Individual cross-validation accuracies for Model 5: [0.94097222 0.96527778 0.94076655 0.94076655 0.94425087]\n",
            "Individual cross-validation accuracies for Model 6: [0.94097222 0.97222222 0.94425087 0.95121951 0.95121951]\n"
          ]
        }
      ],
      "source": [
        "cross_vals1 = cross_val_score(model1, X_train, Y_train, cv=5)\n",
        "cross_vals2 = cross_val_score(model2, X_train, Y_train, cv=5)\n",
        "cross_vals3 = cross_val_score(model3, X_train, Y_train, cv=5)\n",
        "cross_vals4 = cross_val_score(model4, X_train, Y_train, cv=5)\n",
        "cross_vals5 = cross_val_score(model5, X_train, Y_train, cv=5)\n",
        "cross_vals6 = cross_val_score(model6, X_train, Y_train, cv=5)\n",
        "\n",
        "print('Individual cross-validation accuracies for Model 1: ' + str(cross_vals1))\n",
        "print('Individual cross-validation accuracies for Model 2: ' + str(cross_vals2))\n",
        "print('Individual cross-validation accuracies for Model 3: ' + str(cross_vals3))\n",
        "print('Individual cross-validation accuracies for Model 4: ' + str(cross_vals4))\n",
        "print('Individual cross-validation accuracies for Model 5: ' + str(cross_vals5))\n",
        "print('Individual cross-validation accuracies for Model 6: ' + str(cross_vals6))"
      ]
    },
    {
      "cell_type": "markdown",
      "source": [
        "#### Predicting accuracy"
      ],
      "metadata": {
        "id": "p3qcwNxcbCBC"
      }
    },
    {
      "cell_type": "code",
      "execution_count": 8,
      "metadata": {
        "colab": {
          "base_uri": "https://localhost:8080/"
        },
        "id": "bmo8GeWHxpXs",
        "outputId": "fe7f4ea5-1ba2-424b-b412-bbc50e1a8c82"
      },
      "outputs": [
        {
          "output_type": "stream",
          "name": "stdout",
          "text": [
            "Accuracy of MLPClassifier Model1 on test set: 0.97\n",
            "Accuracy of MLPClassifier Model2 on test set: 0.95\n",
            "Accuracy of MLPClassifier Model3 on test set: 0.94\n",
            "Accuracy of MLPClassifier Model4 on test set: 0.93\n",
            "Accuracy of MLPClassifier Model5 on test set: 0.94\n",
            "Accuracy of MLPClassifier Model6 on test set: 0.95\n"
          ]
        }
      ],
      "source": [
        "model1accuracy = model1.score(X_test, Y_test)\n",
        "model2accuracy = model2.score(X_test, Y_test)\n",
        "model3accuracy = model3.score(X_test, Y_test)\n",
        "model4accuracy = model4.score(X_test, Y_test)\n",
        "model5accuracy = model5.score(X_test, Y_test)\n",
        "model6accuracy = model6.score(X_test, Y_test)\n",
        "\n",
        "print('Accuracy of MLPClassifier Model1 on test set: {:.2f}'.format(model1accuracy))\n",
        "print('Accuracy of MLPClassifier Model2 on test set: {:.2f}'.format(model2accuracy))\n",
        "print('Accuracy of MLPClassifier Model3 on test set: {:.2f}'.format(model3accuracy))\n",
        "print('Accuracy of MLPClassifier Model4 on test set: {:.2f}'.format(model4accuracy))\n",
        "print('Accuracy of MLPClassifier Model5 on test set: {:.2f}'.format(model5accuracy))\n",
        "print('Accuracy of MLPClassifier Model6 on test set: {:.2f}'.format(model6accuracy))"
      ]
    },
    {
      "cell_type": "markdown",
      "source": [
        "#### Setting things up for plotting"
      ],
      "metadata": {
        "id": "t07N5jbjbFZt"
      }
    },
    {
      "cell_type": "code",
      "source": [
        "models = ['Model1', 'Model1', 'Model1', 'Model1', 'Model1', \n",
        "          'Model2', 'Model2', 'Model2', 'Model2', 'Model2', \n",
        "          'Model3', 'Model3', 'Model3', 'Model3', 'Model3', \n",
        "          'Model4', 'Model4', 'Model4', 'Model4', 'Model4', \n",
        "          'Model5', 'Model5', 'Model5', 'Model5', 'Model5', \n",
        "          'Model6', 'Model6', 'Model6', 'Model6', 'Model6']\n",
        "models_for_score = ['Model1', 'Model2', 'Model3', 'Model4', 'Model5', 'Model6'] \n",
        "modelnumber = [1, 2, 3, 4, 5, 6]\n",
        "model_accs = [model1accuracy, model2accuracy, model3accuracy, model4accuracy, model5accuracy, model6accuracy]\n",
        "vals = np.array([cross_vals1, cross_vals2, cross_vals3, cross_vals4, cross_vals5, cross_vals6])\n",
        "vals = vals.flatten()"
      ],
      "metadata": {
        "id": "dP3ze4tvYi1a"
      },
      "execution_count": 9,
      "outputs": []
    },
    {
      "cell_type": "markdown",
      "source": [
        "#### Plotting the cross vals and test set accuracy"
      ],
      "metadata": {
        "id": "TlcgUbYQbKAf"
      }
    },
    {
      "cell_type": "code",
      "source": [
        "fig, ax = plt.subplots()\n",
        "\n",
        "sns.set(style = 'whitegrid')\n",
        "vplot = sns.violinplot(x = models, y = vals, inner = \"quartile\", ax = ax)\n",
        "vplot.set_xlabel(\"Models\")\n",
        "vplot.set_ylabel(\"Cross Vals\")\n",
        "\n",
        "vplot = sns.swarmplot(x = models_for_score, y = model_accs, color = 'pink', edgecolor = 'white', size = 15, ax = ax)\n",
        "\n",
        "print(vplot)"
      ],
      "metadata": {
        "colab": {
          "base_uri": "https://localhost:8080/",
          "height": 298
        },
        "id": "2EadJR1HYmYg",
        "outputId": "fd584013-9d10-4e8e-b54e-db7bf9221a75"
      },
      "execution_count": 10,
      "outputs": [
        {
          "output_type": "stream",
          "name": "stdout",
          "text": [
            "AxesSubplot(0.125,0.125;0.775x0.755)\n"
          ]
        },
        {
          "output_type": "display_data",
          "data": {
            "text/plain": [
              "<Figure size 432x288 with 1 Axes>"
            ],
            "image/png": "[encoded data removed]"
          },
          "metadata": {
            "needs_background": "light"
          }
        }
      ]
    }
  ],
  "metadata": {
    "kernelspec": {
      "display_name": "Python 3",
      "language": "python",
      "name": "python3"
    },
    "language_info": {
      "codemirror_mode": {
        "name": "ipython",
        "version": 3
      },
      "file_extension": ".py",
      "mimetype": "text/x-python",
      "name": "python",
      "nbconvert_exporter": "python",
      "pygments_lexer": "ipython3",
      "version": "3.8.3"
    },
    "colab": {
      "provenance": []
    }
  },
  "nbformat": 4,
  "nbformat_minor": 0
}