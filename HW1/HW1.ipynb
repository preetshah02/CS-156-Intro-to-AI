{
  "cells": [
    {
      "cell_type": "markdown",
      "metadata": {
        "id": "2yg5ZV6vq6W7"
      },
      "source": [
        "# <b>CS156 (Introduction to AI), Fall 2022</b>\n",
        "# <u><b>Homework 1 submission</b></u>"
      ]
    },
    {
      "cell_type": "markdown",
      "metadata": {
        "id": "KRINTtdsq6W8"
      },
      "source": [
        "### Roster Name: Preet LNU\n",
        "### Student ID: 014755741\n",
        "### Email address: preet.lnu@sjsu.edu"
      ]
    },
    {
      "cell_type": "markdown",
      "metadata": {
        "id": "hBwSaL7Vq6W9"
      },
      "source": [
        "##  <u>References and sources </u>"
      ]
    },
    {
      "cell_type": "markdown",
      "metadata": {
        "id": "Y3z0jJBdq6W9"
      },
      "source": [
        "https://sjsu.instructure.com/courses/1488511/files/folder/Example%20Jupyter%20notebooks?# I used the Gradient_Descent example as a reference."
      ]
    },
    {
      "cell_type": "markdown",
      "metadata": {
        "id": "kvxQ5bpCq6W-"
      },
      "source": [
        "#### Load libraries and set random number generator seed"
      ]
    },
    {
      "cell_type": "code",
      "execution_count": 1,
      "metadata": {
        "id": "xRZPPpcOq6W-"
      },
      "outputs": [],
      "source": [
        "import numpy as np\n",
        "from IPython.display import display, Math, Latex"
      ]
    },
    {
      "cell_type": "code",
      "execution_count": 2,
      "metadata": {
        "id": "mep3H6Ljq6XA"
      },
      "outputs": [],
      "source": [
        "np.random.seed(42)"
      ]
    },
    {
      "cell_type": "markdown",
      "metadata": {
        "id": "BMefyIiQq6XA"
      },
      "source": [
        "##  <u>Cubic curve function</u>"
      ]
    },
    {
      "cell_type": "code",
      "execution_count": 3,
      "metadata": {
        "colab": {
          "base_uri": "https://localhost:8080/",
          "height": 39
        },
        "id": "NTAjBVZtq6XB",
        "outputId": "fbed41e5-62ae-49d4-bbd9-12f982a1917d"
      },
      "outputs": [
        {
          "output_type": "display_data",
          "data": {
            "text/plain": [
              "<IPython.core.display.Math object>"
            ],
            "text/latex": "$\\displaystyle  f(x) = 5x^3-20x+2 $"
          },
          "metadata": {}
        }
      ],
      "source": [
        "display(Math(r' f(x) = 5x^3-20x+2 '))"
      ]
    },
    {
      "cell_type": "code",
      "execution_count": 4,
      "metadata": {
        "id": "binSdAFfq6XC"
      },
      "outputs": [],
      "source": [
        "def f(x):\n",
        "    return 5 * pow(x, 3) - (20 * x) + 2"
      ]
    },
    {
      "cell_type": "code",
      "execution_count": 5,
      "metadata": {
        "id": "gmF8DGBjq6XC"
      },
      "outputs": [],
      "source": [
        "# derivative\n",
        "def f_prime(x):\n",
        "    return (15 * x * x) - 20"
      ]
    },
    {
      "cell_type": "markdown",
      "source": [
        "#### Gradient Descent\n"
      ],
      "metadata": {
        "id": "45F2BDA5sAa8"
      }
    },
    {
      "cell_type": "code",
      "execution_count": 6,
      "metadata": {
        "colab": {
          "base_uri": "https://localhost:8080/"
        },
        "id": "GM1CiJgNq6XD",
        "outputId": "2f2321db-2b04-4666-b154-133bcd787864"
      },
      "outputs": [
        {
          "output_type": "stream",
          "name": "stdout",
          "text": [
            "This function has a global minimum value of x at 1.155\n"
          ]
        }
      ],
      "source": [
        "init_solution = np.random.randint(0, 10)\n",
        "def gradient_descent(x, lr, iterations):\n",
        "    for i in range(iterations):\n",
        "        x = x - lr * f_prime(x)\n",
        "        # print(x)\n",
        "    return (x)\n",
        "    \n",
        "solution = gradient_descent(init_solution, .01, 1000)\n",
        "print(\"This function has a global minimum value of x at \" + str(round(solution, 3)))"
      ]
    }
  ],
  "metadata": {
    "kernelspec": {
      "display_name": "Python 3",
      "language": "python",
      "name": "python3"
    },
    "language_info": {
      "codemirror_mode": {
        "name": "ipython",
        "version": 3
      },
      "file_extension": ".py",
      "mimetype": "text/x-python",
      "name": "python",
      "nbconvert_exporter": "python",
      "pygments_lexer": "ipython3",
      "version": "3.8.3"
    },
    "colab": {
      "provenance": []
    }
  },
  "nbformat": 4,
  "nbformat_minor": 0
}