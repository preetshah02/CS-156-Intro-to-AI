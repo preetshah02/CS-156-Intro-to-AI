{
  "cells": [
    {
      "cell_type": "markdown",
      "metadata": {
        "id": "o8Wby0OvJREw"
      },
      "source": [
        "# <b>CS156 (Introduction to AI), Fall 2022</b>\n",
        "# <u><b>Homework 9 submission</b></u>"
      ]
    },
    {
      "cell_type": "markdown",
      "metadata": {
        "id": "TtOOss3dJREz"
      },
      "source": [
        "### Roster Name: Preet LNU\n",
        "### Student ID: 014755741\n",
        "### Email address: preet.lnu@sjsu.edu\n"
      ]
    },
    {
      "cell_type": "markdown",
      "metadata": {
        "id": "5JqcFhJgJRE0"
      },
      "source": [
        "##  <u>References and sources </u>"
      ]
    },
    {
      "cell_type": "markdown",
      "metadata": {
        "id": "BYwwwDqnJRE0"
      },
      "source": [
        "Autoencoders.MNIST.ipynb"
      ]
    },
    {
      "cell_type": "markdown",
      "metadata": {
        "id": "fdJmIOf5JRE0"
      },
      "source": [
        "##  <u>Solution</u>"
      ]
    },
    {
      "cell_type": "markdown",
      "metadata": {
        "id": "RcUhzz7SJRE0"
      },
      "source": [
        "#### Load libraries and set random number generator seed"
      ]
    },
    {
      "cell_type": "code",
      "execution_count": 1,
      "metadata": {
        "id": "GXZM7S4QJRE0"
      },
      "outputs": [],
      "source": [
        "import numpy as np\n",
        "import tensorflow as tf\n",
        "from tensorflow import keras\n",
        "from sklearn.model_selection import train_test_split\n",
        "\n",
        "from tensorflow.keras import layers\n",
        "from tensorflow.keras.layers import Flatten\n",
        "from tensorflow.keras.layers import Dense\n",
        "from tensorflow.keras.layers import Reshape\n",
        "from tensorflow.keras.layers import Input\n",
        "from tensorflow.keras.models import Model\n",
        "\n",
        "import matplotlib.pyplot as plt"
      ]
    },
    {
      "cell_type": "code",
      "execution_count": 2,
      "metadata": {
        "id": "NsvdNlXOJRE1"
      },
      "outputs": [],
      "source": [
        "np.random.seed(42)"
      ]
    },
    {
      "cell_type": "markdown",
      "metadata": {
        "id": "l2uIOj-LJRE1"
      },
      "source": [
        "#### Code the solution"
      ]
    },
    {
      "cell_type": "markdown",
      "source": [
        "#### Loading and preparing image data"
      ],
      "metadata": {
        "id": "1vzlFAfiKYAa"
      }
    },
    {
      "cell_type": "code",
      "execution_count": 3,
      "metadata": {
        "colab": {
          "base_uri": "https://localhost:8080/"
        },
        "id": "sNLREfT4JRE2",
        "outputId": "161fcb67-3938-481f-f211-af946bfdb6cc"
      },
      "outputs": [
        {
          "output_type": "stream",
          "name": "stdout",
          "text": [
            "Downloading data from https://storage.googleapis.com/tensorflow/tf-keras-datasets/train-labels-idx1-ubyte.gz\n",
            "29515/29515 [==============================] - 0s 0us/step\n",
            "Downloading data from https://storage.googleapis.com/tensorflow/tf-keras-datasets/train-images-idx3-ubyte.gz\n",
            "26421880/26421880 [==============================] - 0s 0us/step\n",
            "Downloading data from https://storage.googleapis.com/tensorflow/tf-keras-datasets/t10k-labels-idx1-ubyte.gz\n",
            "5148/5148 [==============================] - 0s 0us/step\n",
            "Downloading data from https://storage.googleapis.com/tensorflow/tf-keras-datasets/t10k-images-idx3-ubyte.gz\n",
            "4422102/4422102 [==============================] - 0s 0us/step\n"
          ]
        },
        {
          "output_type": "execute_result",
          "data": {
            "text/plain": [
              "((48000, 28, 28), (12000, 28, 28), (10000, 28, 28))"
            ]
          },
          "metadata": {},
          "execution_count": 3
        }
      ],
      "source": [
        "(x_train_valid, y_train_valid), (x_test, y_test) = keras.datasets.fashion_mnist.load_data()\n",
        "\n",
        "x_train, x_validation, y_train, y_validation = train_test_split(x_train_valid, y_train_valid, test_size=0.2, random_state=0)\n",
        "\n",
        "x_train = x_train.astype(\"float32\") / 255\n",
        "x_validation = x_validation.astype(\"float32\") / 255\n",
        "x_test = x_test.astype(\"float32\") / 255\n",
        "\n",
        "x_train.shape, x_validation.shape, x_test.shape"
      ]
    },
    {
      "cell_type": "markdown",
      "source": [
        "#### Autoencoder model and its performance for first 10 images in test set"
      ],
      "metadata": {
        "id": "qMfwT5DdKe4x"
      }
    },
    {
      "cell_type": "code",
      "execution_count": 4,
      "metadata": {
        "colab": {
          "base_uri": "https://localhost:8080/"
        },
        "id": "0W4ZDcePJRE2",
        "outputId": "689bcc2b-32f3-4b01-aac9-f03af49e9dc3"
      },
      "outputs": [
        {
          "output_type": "execute_result",
          "data": {
            "text/plain": [
              "((48000, 784), (12000, 784), (10000, 784))"
            ]
          },
          "metadata": {},
          "execution_count": 4
        }
      ],
      "source": [
        "x_train = x_train.reshape(-1, 784)\n",
        "x_validation = x_validation.reshape(-1, 784)\n",
        "x_test = x_test.reshape(-1, 784)\n",
        "\n",
        "x_train.shape, x_validation.shape, x_test.shape"
      ]
    },
    {
      "cell_type": "code",
      "execution_count": 5,
      "metadata": {
        "colab": {
          "base_uri": "https://localhost:8080/"
        },
        "id": "5PmBHCYsJRE2",
        "outputId": "7bfb4d69-cea6-4d92-f2fc-161e26aa6cca"
      },
      "outputs": [
        {
          "output_type": "stream",
          "name": "stdout",
          "text": [
            "Model: \"model\"\n",
            "_________________________________________________________________\n",
            " Layer (type)                Output Shape              Param #   \n",
            "=================================================================\n",
            " input_1 (InputLayer)        [(None, 784)]             0         \n",
            "                                                                 \n",
            " dense (Dense)               (None, 128)               100480    \n",
            "                                                                 \n",
            " dense_1 (Dense)             (None, 64)                8256      \n",
            "                                                                 \n",
            " dense_2 (Dense)             (None, 32)                2080      \n",
            "                                                                 \n",
            " dense_3 (Dense)             (None, 64)                2112      \n",
            "                                                                 \n",
            " dense_4 (Dense)             (None, 128)               8320      \n",
            "                                                                 \n",
            " dense_5 (Dense)             (None, 784)               101136    \n",
            "                                                                 \n",
            "=================================================================\n",
            "Total params: 222,384\n",
            "Trainable params: 222,384\n",
            "Non-trainable params: 0\n",
            "_________________________________________________________________\n"
          ]
        }
      ],
      "source": [
        "input_layer = Input(shape=(784,)) \n",
        "encoded = layers.Dense(128, activation='relu')(input_layer)\n",
        "encoded = layers.Dense(64, activation='relu')(encoded)\n",
        "encoded = layers.Dense(32, activation='relu')(encoded)\n",
        "\n",
        "decoded = layers.Dense(64, activation='sigmoid')(encoded)\n",
        "decoded = layers.Dense(128, activation='sigmoid')(decoded)\n",
        "decoded = layers.Dense(784, activation='sigmoid')(decoded)\n",
        "\n",
        "autoencoder = keras.Model(input_layer, decoded)\n",
        "autoencoder.summary()\n",
        "\n",
        "encoder = keras.Model(input_layer, encoded)\n",
        "\n",
        "encoded_input = keras.Input(shape=(128,))\n",
        "decoder_layer = autoencoder.layers[-1]  \n",
        "decoder = keras.Model(encoded_input, decoder_layer(encoded_input))"
      ]
    },
    {
      "cell_type": "markdown",
      "source": [
        "#### Fitting/training the model"
      ],
      "metadata": {
        "id": "68chX_KMKkSG"
      }
    },
    {
      "cell_type": "code",
      "execution_count": 6,
      "metadata": {
        "colab": {
          "base_uri": "https://localhost:8080/"
        },
        "id": "-jyXjLvVJRE2",
        "outputId": "81a378bd-fe10-4830-c18f-d19b6f1b25ed"
      },
      "outputs": [
        {
          "output_type": "stream",
          "name": "stdout",
          "text": [
            "Epoch 1/30\n",
            "24/24 [==============================] - 7s 217ms/step - loss: 0.5887 - val_loss: 0.5139\n",
            "Epoch 2/30\n",
            "24/24 [==============================] - 5s 204ms/step - loss: 0.4990 - val_loss: 0.4920\n",
            "Epoch 3/30\n",
            "24/24 [==============================] - 5s 200ms/step - loss: 0.4873 - val_loss: 0.4830\n",
            "Epoch 4/30\n",
            "24/24 [==============================] - 4s 160ms/step - loss: 0.4742 - val_loss: 0.4635\n",
            "Epoch 5/30\n",
            "24/24 [==============================] - 3s 107ms/step - loss: 0.4514 - val_loss: 0.4417\n",
            "Epoch 6/30\n",
            "24/24 [==============================] - 2s 104ms/step - loss: 0.4331 - val_loss: 0.4261\n",
            "Epoch 7/30\n",
            "24/24 [==============================] - 3s 108ms/step - loss: 0.4181 - val_loss: 0.4112\n",
            "Epoch 8/30\n",
            "24/24 [==============================] - 2s 102ms/step - loss: 0.4037 - val_loss: 0.3993\n",
            "Epoch 9/30\n",
            "24/24 [==============================] - 2s 104ms/step - loss: 0.3967 - val_loss: 0.3937\n",
            "Epoch 10/30\n",
            "24/24 [==============================] - 2s 102ms/step - loss: 0.3899 - val_loss: 0.3884\n",
            "Epoch 11/30\n",
            "24/24 [==============================] - 2s 102ms/step - loss: 0.3850 - val_loss: 0.3847\n",
            "Epoch 12/30\n",
            "24/24 [==============================] - 3s 105ms/step - loss: 0.3817 - val_loss: 0.3816\n",
            "Epoch 13/30\n",
            "24/24 [==============================] - 3s 110ms/step - loss: 0.3787 - val_loss: 0.3789\n",
            "Epoch 14/30\n",
            "24/24 [==============================] - 3s 108ms/step - loss: 0.3761 - val_loss: 0.3763\n",
            "Epoch 15/30\n",
            "24/24 [==============================] - 2s 104ms/step - loss: 0.3730 - val_loss: 0.3729\n",
            "Epoch 16/30\n",
            "24/24 [==============================] - 3s 109ms/step - loss: 0.3700 - val_loss: 0.3701\n",
            "Epoch 17/30\n",
            "24/24 [==============================] - 3s 109ms/step - loss: 0.3667 - val_loss: 0.3664\n",
            "Epoch 18/30\n",
            "24/24 [==============================] - 3s 107ms/step - loss: 0.3633 - val_loss: 0.3627\n",
            "Epoch 19/30\n",
            "24/24 [==============================] - 3s 106ms/step - loss: 0.3602 - val_loss: 0.3595\n",
            "Epoch 20/30\n",
            "24/24 [==============================] - 3s 107ms/step - loss: 0.3571 - val_loss: 0.3570\n",
            "Epoch 21/30\n",
            "24/24 [==============================] - 2s 104ms/step - loss: 0.3546 - val_loss: 0.3546\n",
            "Epoch 22/30\n",
            "24/24 [==============================] - 3s 108ms/step - loss: 0.3517 - val_loss: 0.3519\n",
            "Epoch 23/30\n",
            "24/24 [==============================] - 3s 108ms/step - loss: 0.3497 - val_loss: 0.3504\n",
            "Epoch 24/30\n",
            "24/24 [==============================] - 2s 104ms/step - loss: 0.3477 - val_loss: 0.3480\n",
            "Epoch 25/30\n",
            "24/24 [==============================] - 3s 105ms/step - loss: 0.3461 - val_loss: 0.3468\n",
            "Epoch 26/30\n",
            "24/24 [==============================] - 2s 104ms/step - loss: 0.3448 - val_loss: 0.3449\n",
            "Epoch 27/30\n",
            "24/24 [==============================] - 3s 106ms/step - loss: 0.3428 - val_loss: 0.3438\n",
            "Epoch 28/30\n",
            "24/24 [==============================] - 3s 105ms/step - loss: 0.3413 - val_loss: 0.3423\n",
            "Epoch 29/30\n",
            "24/24 [==============================] - 2s 101ms/step - loss: 0.3402 - val_loss: 0.3409\n",
            "Epoch 30/30\n",
            "24/24 [==============================] - 3s 106ms/step - loss: 0.3390 - val_loss: 0.3397\n"
          ]
        },
        {
          "output_type": "execute_result",
          "data": {
            "text/plain": [
              "<keras.callbacks.History at 0x7ffa56bb3750>"
            ]
          },
          "metadata": {},
          "execution_count": 6
        }
      ],
      "source": [
        "autoencoder.compile(optimizer='adam', loss='binary_crossentropy')\n",
        "\n",
        "autoencoder.fit(x_train, x_train,\n",
        "                epochs=30,\n",
        "                batch_size=2048,\n",
        "                shuffle=True,\n",
        "                validation_data=(x_test, x_test))"
      ]
    },
    {
      "cell_type": "markdown",
      "source": [
        "#### Plotting the reconstructed images"
      ],
      "metadata": {
        "id": "UBBrWikPKpXn"
      }
    },
    {
      "cell_type": "code",
      "execution_count": 7,
      "metadata": {
        "colab": {
          "base_uri": "https://localhost:8080/",
          "height": 266
        },
        "id": "2CHI1A7uJRE2",
        "outputId": "8b6be78c-cc19-4b98-b83e-f1c77c82be6e"
      },
      "outputs": [
        {
          "output_type": "stream",
          "name": "stdout",
          "text": [
            "313/313 [==============================] - 1s 2ms/step\n"
          ]
        },
        {
          "output_type": "display_data",
          "data": {
            "text/plain": [
              "<Figure size 1440x288 with 20 Axes>"
            ],
            "image/png": "[encoded data removed]"
          },
          "metadata": {
            "needs_background": "light"
          }
        }
      ],
      "source": [
        "predictions = autoencoder.predict(x_test)\n",
        "\n",
        "n = 10\n",
        "plt.figure(figsize=(20, 4))\n",
        "for i in range(n):\n",
        "  \n",
        "    ax = plt.subplot(2, n, i + 1)\n",
        "    plt.imshow(x_test[i].reshape(28, 28))\n",
        "    plt.gray()\n",
        "    ax.get_xaxis().set_visible(False)\n",
        "    ax.get_yaxis().set_visible(False)\n",
        "\n",
        "    ax = plt.subplot(2, n, i + 1 + n)\n",
        "    plt.imshow(predictions[i].reshape(28, 28))\n",
        "    plt.gray()\n",
        "    ax.get_xaxis().set_visible(False)\n",
        "    ax.get_yaxis().set_visible(False)\n",
        "plt.show()"
      ]
    },
    {
      "cell_type": "markdown",
      "source": [
        "#### Reshaping and denoising images with an autoencoder model + plotting"
      ],
      "metadata": {
        "id": "dko44dLWKxfK"
      }
    },
    {
      "cell_type": "code",
      "execution_count": 8,
      "metadata": {
        "colab": {
          "base_uri": "https://localhost:8080/"
        },
        "id": "ELp8Rv8CJRE2",
        "outputId": "f6391ae8-16c0-4513-f08e-c894dd790a3e"
      },
      "outputs": [
        {
          "output_type": "execute_result",
          "data": {
            "text/plain": [
              "((48000, 28, 28, 1), (12000, 28, 28, 1), (10000, 28, 28, 1))"
            ]
          },
          "metadata": {},
          "execution_count": 8
        }
      ],
      "source": [
        "x_train = x_train.reshape(-1, 28, 28, 1)\n",
        "x_validation = x_validation.reshape(-1, 28, 28, 1)\n",
        "x_test = x_test.reshape(-1, 28, 28, 1)\n",
        "\n",
        "x_train.shape, x_validation.shape, x_test.shape"
      ]
    },
    {
      "cell_type": "code",
      "source": [
        "noise_factor = 0.4\n",
        "x_train_noisy = x_train + noise_factor * np.random.normal(loc=0.0, scale=1.0, size=x_train.shape) \n",
        "x_validation_noisy = x_validation + noise_factor * np.random.normal(loc=0.0, scale=1.0, size=x_validation.shape) \n",
        "x_test_noisy = x_test + noise_factor * np.random.normal(loc=0.0, scale=1.0, size=x_test.shape) \n",
        "\n",
        "x_train_noisy = np.clip(x_train_noisy, 0., 1.)\n",
        "x_validation_noisy = np.clip(x_validation_noisy, 0., 1.)\n",
        "x_test_noisy = np.clip(x_test_noisy, 0., 1.)"
      ],
      "metadata": {
        "id": "83SDbOGZJlWL"
      },
      "execution_count": 9,
      "outputs": []
    },
    {
      "cell_type": "markdown",
      "source": [
        "#### Plotting noised images"
      ],
      "metadata": {
        "id": "tQy5QwNSK536"
      }
    },
    {
      "cell_type": "code",
      "source": [
        "n = 10\n",
        "plt.figure(figsize=(20, 2))\n",
        "for i in range(1, n + 1):\n",
        "    ax = plt.subplot(1, n, i)\n",
        "    plt.imshow(x_test_noisy[i].reshape(28, 28))\n",
        "    plt.gray()\n",
        "    ax.get_xaxis().set_visible(False)\n",
        "    ax.get_yaxis().set_visible(False)\n",
        "plt.show()"
      ],
      "metadata": {
        "colab": {
          "base_uri": "https://localhost:8080/",
          "height": 129
        },
        "id": "uXH_ZSGCJnTc",
        "outputId": "aa402196-944d-4afb-fd53-1e944bea74d4"
      },
      "execution_count": 10,
      "outputs": [
        {
          "output_type": "display_data",
          "data": {
            "text/plain": [
              "<Figure size 1440x144 with 10 Axes>"
            ],
            "image/png": "[encoded data removed]"
          },
          "metadata": {
            "needs_background": "light"
          }
        }
      ]
    },
    {
      "cell_type": "code",
      "source": [
        "input_layer = keras.Input(shape=(28, 28, 1))\n",
        "\n",
        "x = layers.Conv2D(32, (3, 3), activation='relu', padding='same')(input_layer)\n",
        "x = layers.MaxPooling2D((2, 2), padding='same')(x)\n",
        "x = layers.Conv2D(32, (3, 3), activation='relu', padding='same')(x)\n",
        "encoded = layers.MaxPooling2D((2, 2), padding='same')(x)\n",
        "\n",
        "\n",
        "x = layers.Conv2D(32, (3, 3), activation='relu', padding='same')(encoded)\n",
        "x = layers.UpSampling2D((2, 2))(x)\n",
        "x = layers.Conv2D(32, (3, 3), activation='relu', padding='same')(x)\n",
        "x = layers.UpSampling2D((2, 2))(x)\n",
        "decoded = layers.Conv2D(1, (3, 3), activation='sigmoid', padding='same')(x)\n",
        "\n",
        "autoencoder = keras.Model(input_layer, decoded)\n",
        "autoencoder.summary()"
      ],
      "metadata": {
        "colab": {
          "base_uri": "https://localhost:8080/"
        },
        "id": "xS0wFBsILI8w",
        "outputId": "39801f0d-ddc6-4ca6-d6bf-a9d1a1743d16"
      },
      "execution_count": 11,
      "outputs": [
        {
          "output_type": "stream",
          "name": "stdout",
          "text": [
            "Model: \"model_3\"\n",
            "_________________________________________________________________\n",
            " Layer (type)                Output Shape              Param #   \n",
            "=================================================================\n",
            " input_3 (InputLayer)        [(None, 28, 28, 1)]       0         \n",
            "                                                                 \n",
            " conv2d (Conv2D)             (None, 28, 28, 32)        320       \n",
            "                                                                 \n",
            " max_pooling2d (MaxPooling2D  (None, 14, 14, 32)       0         \n",
            " )                                                               \n",
            "                                                                 \n",
            " conv2d_1 (Conv2D)           (None, 14, 14, 32)        9248      \n",
            "                                                                 \n",
            " max_pooling2d_1 (MaxPooling  (None, 7, 7, 32)         0         \n",
            " 2D)                                                             \n",
            "                                                                 \n",
            " conv2d_2 (Conv2D)           (None, 7, 7, 32)          9248      \n",
            "                                                                 \n",
            " up_sampling2d (UpSampling2D  (None, 14, 14, 32)       0         \n",
            " )                                                               \n",
            "                                                                 \n",
            " conv2d_3 (Conv2D)           (None, 14, 14, 32)        9248      \n",
            "                                                                 \n",
            " up_sampling2d_1 (UpSampling  (None, 28, 28, 32)       0         \n",
            " 2D)                                                             \n",
            "                                                                 \n",
            " conv2d_4 (Conv2D)           (None, 28, 28, 1)         289       \n",
            "                                                                 \n",
            "=================================================================\n",
            "Total params: 28,353\n",
            "Trainable params: 28,353\n",
            "Non-trainable params: 0\n",
            "_________________________________________________________________\n"
          ]
        }
      ]
    },
    {
      "cell_type": "markdown",
      "source": [
        "#### Training the noise model and plotting"
      ],
      "metadata": {
        "id": "bAfaeAscLS6Q"
      }
    },
    {
      "cell_type": "code",
      "source": [
        "autoencoder.compile(optimizer='adam', loss='binary_crossentropy')\n",
        "\n",
        "autoencoder.fit(x_train_noisy, x_train,\n",
        "                epochs=30,\n",
        "                batch_size=2048,\n",
        "                shuffle=True,\n",
        "                validation_data=(x_validation_noisy, x_validation))"
      ],
      "metadata": {
        "colab": {
          "base_uri": "https://localhost:8080/"
        },
        "id": "U9IkshKKLJ7x",
        "outputId": "50f48e6a-0ed4-40af-e89c-97125672407a"
      },
      "execution_count": 12,
      "outputs": [
        {
          "output_type": "stream",
          "name": "stdout",
          "text": [
            "Epoch 1/30\n",
            "24/24 [==============================] - 142s 6s/step - loss: 0.5317 - val_loss: 0.3797\n",
            "Epoch 2/30\n",
            "24/24 [==============================] - 129s 5s/step - loss: 0.3526 - val_loss: 0.3345\n",
            "Epoch 3/30\n",
            "24/24 [==============================] - 130s 5s/step - loss: 0.3277 - val_loss: 0.3213\n",
            "Epoch 4/30\n",
            "24/24 [==============================] - 128s 5s/step - loss: 0.3186 - val_loss: 0.3157\n",
            "Epoch 5/30\n",
            "24/24 [==============================] - 130s 5s/step - loss: 0.3137 - val_loss: 0.3116\n",
            "Epoch 6/30\n",
            "24/24 [==============================] - 128s 5s/step - loss: 0.3104 - val_loss: 0.3088\n",
            "Epoch 7/30\n",
            "24/24 [==============================] - 130s 5s/step - loss: 0.3080 - val_loss: 0.3069\n",
            "Epoch 8/30\n",
            "24/24 [==============================] - 129s 5s/step - loss: 0.3062 - val_loss: 0.3050\n",
            "Epoch 9/30\n",
            "24/24 [==============================] - 128s 5s/step - loss: 0.3047 - val_loss: 0.3040\n",
            "Epoch 10/30\n",
            "24/24 [==============================] - 130s 5s/step - loss: 0.3034 - val_loss: 0.3025\n",
            "Epoch 11/30\n",
            "24/24 [==============================] - 128s 5s/step - loss: 0.3024 - val_loss: 0.3014\n",
            "Epoch 12/30\n",
            "24/24 [==============================] - 129s 5s/step - loss: 0.3014 - val_loss: 0.3018\n",
            "Epoch 13/30\n",
            "24/24 [==============================] - 128s 5s/step - loss: 0.3007 - val_loss: 0.2999\n",
            "Epoch 14/30\n",
            "24/24 [==============================] - 129s 5s/step - loss: 0.2997 - val_loss: 0.2992\n",
            "Epoch 15/30\n",
            "24/24 [==============================] - 129s 5s/step - loss: 0.2991 - val_loss: 0.2982\n",
            "Epoch 16/30\n",
            "24/24 [==============================] - 133s 5s/step - loss: 0.2981 - val_loss: 0.2976\n",
            "Epoch 17/30\n",
            "24/24 [==============================] - 130s 5s/step - loss: 0.2976 - val_loss: 0.2969\n",
            "Epoch 18/30\n",
            "24/24 [==============================] - 138s 6s/step - loss: 0.2968 - val_loss: 0.2963\n",
            "Epoch 19/30\n",
            "24/24 [==============================] - 132s 6s/step - loss: 0.2973 - val_loss: 0.2977\n",
            "Epoch 20/30\n",
            "24/24 [==============================] - 133s 6s/step - loss: 0.2963 - val_loss: 0.2955\n",
            "Epoch 21/30\n",
            "24/24 [==============================] - 133s 6s/step - loss: 0.2955 - val_loss: 0.2951\n",
            "Epoch 22/30\n",
            "24/24 [==============================] - 131s 5s/step - loss: 0.2951 - val_loss: 0.2947\n",
            "Epoch 23/30\n",
            "24/24 [==============================] - 132s 6s/step - loss: 0.2947 - val_loss: 0.2944\n",
            "Epoch 24/30\n",
            "24/24 [==============================] - 131s 5s/step - loss: 0.2944 - val_loss: 0.2940\n",
            "Epoch 25/30\n",
            "24/24 [==============================] - 133s 6s/step - loss: 0.2941 - val_loss: 0.2939\n",
            "Epoch 26/30\n",
            "24/24 [==============================] - 131s 5s/step - loss: 0.2940 - val_loss: 0.2935\n",
            "Epoch 27/30\n",
            "24/24 [==============================] - 132s 6s/step - loss: 0.2935 - val_loss: 0.2936\n",
            "Epoch 28/30\n",
            "24/24 [==============================] - 132s 6s/step - loss: 0.2934 - val_loss: 0.2930\n",
            "Epoch 29/30\n",
            "24/24 [==============================] - 130s 5s/step - loss: 0.2931 - val_loss: 0.2928\n",
            "Epoch 30/30\n",
            "24/24 [==============================] - 132s 6s/step - loss: 0.2928 - val_loss: 0.2924\n"
          ]
        },
        {
          "output_type": "execute_result",
          "data": {
            "text/plain": [
              "<keras.callbacks.History at 0x7ffa53a9f990>"
            ]
          },
          "metadata": {},
          "execution_count": 12
        }
      ]
    },
    {
      "cell_type": "markdown",
      "source": [
        "#### Plotting the reconstructed images"
      ],
      "metadata": {
        "id": "J9nYK8ZrLPws"
      }
    },
    {
      "cell_type": "code",
      "source": [
        "predictions = autoencoder.predict(x_test)\n",
        "\n",
        "n = 10\n",
        "plt.figure(figsize=(20, 4))\n",
        "for i in range(n):\n",
        "\n",
        "    ax = plt.subplot(2, n, i + 1)\n",
        "    plt.imshow(x_test_noisy[i].reshape(28, 28))\n",
        "    plt.gray()\n",
        "    ax.get_xaxis().set_visible(False)\n",
        "    ax.get_yaxis().set_visible(False)\n",
        "\n",
        "    ax = plt.subplot(2, n, i + 1 + n)\n",
        "    plt.imshow(predictions[i].reshape(28, 28))\n",
        "    plt.gray()\n",
        "    ax.get_xaxis().set_visible(False)\n",
        "    ax.get_yaxis().set_visible(False)\n",
        "plt.show()\n"
      ],
      "metadata": {
        "colab": {
          "base_uri": "https://localhost:8080/",
          "height": 266
        },
        "id": "3GTggJ9eLMIp",
        "outputId": "f625a576-f417-4856-dfd4-cd92f3802f37"
      },
      "execution_count": 13,
      "outputs": [
        {
          "output_type": "stream",
          "name": "stdout",
          "text": [
            "313/313 [==============================] - 7s 21ms/step\n"
          ]
        },
        {
          "output_type": "display_data",
          "data": {
            "text/plain": [
              "<Figure size 1440x288 with 20 Axes>"
            ],
            "image/png": "[encoded data removed]"
          },
          "metadata": {
            "needs_background": "light"
          }
        }
      ]
    }
  ],
  "metadata": {
    "kernelspec": {
      "display_name": "Python 3",
      "language": "python",
      "name": "python3"
    },
    "language_info": {
      "codemirror_mode": {
        "name": "ipython",
        "version": 3
      },
      "file_extension": ".py",
      "mimetype": "text/x-python",
      "name": "python",
      "nbconvert_exporter": "python",
      "pygments_lexer": "ipython3",
      "version": "3.8.3"
    },
    "colab": {
      "provenance": []
    }
  },
  "nbformat": 4,
  "nbformat_minor": 0
}